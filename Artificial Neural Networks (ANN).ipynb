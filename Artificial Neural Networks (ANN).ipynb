{
 "cells": [
  {
   "cell_type": "code",
   "execution_count": 7,
   "id": "6ebc828a",
   "metadata": {},
   "outputs": [],
   "source": [
    "import numpy as np\n"
   ]
  },
  {
   "cell_type": "code",
   "execution_count": 8,
   "id": "ec2fe50d",
   "metadata": {},
   "outputs": [],
   "source": [
    "# Define the sigmoid function\n",
    "def sigmoid(x):\n",
    "    return 1 / (1 + np.exp(-x))"
   ]
  },
  {
   "cell_type": "code",
   "execution_count": 9,
   "id": "a33f9abc",
   "metadata": {},
   "outputs": [],
   "source": [
    "# Set up the training data\n",
    "X = np.array([[0, 0, 1], [0, 1, 1], [1, 0, 1], [1, 1, 1]])\n",
    "y = np.array([[0], [1], [1], [0]])"
   ]
  },
  {
   "cell_type": "code",
   "execution_count": 10,
   "id": "1c23fc54",
   "metadata": {},
   "outputs": [],
   "source": [
    "# Set up the weights for the first layer (input layer -> hidden layer)\n",
    "w1 = 2 * np.random.random((3, 4)) - 1"
   ]
  },
  {
   "cell_type": "code",
   "execution_count": 11,
   "id": "472b8945",
   "metadata": {},
   "outputs": [],
   "source": [
    "# Set up the weights for the second layer (hidden layer -> output layer)\n",
    "w2 = 2 * np.random.random((4, 1)) - 1"
   ]
  },
  {
   "cell_type": "code",
   "execution_count": 12,
   "id": "28c75b23",
   "metadata": {},
   "outputs": [],
   "source": [
    "# Train the model\n",
    "for i in range(10000):\n",
    "    # Forward propagation\n",
    "    layer1 = sigmoid(np.dot(X, w1))\n",
    "    layer2 = sigmoid(np.dot(layer1, w2))\n",
    "\n",
    "    # Backpropagation\n",
    "    layer2_error = y - layer2\n",
    "    layer2_delta = layer2_error * (layer2 * (1 - layer2))\n",
    "    layer1_error = np.dot(layer2_delta, w2.T)\n",
    "    layer1_delta = layer1_error * (layer1 * (1 - layer1))\n",
    "\n",
    "    # Update the weights\n",
    "    w2 += np.dot(layer1.T, layer2_delta)\n",
    "    w1 += np.dot(X.T, layer1_delta)"
   ]
  },
  {
   "cell_type": "code",
   "execution_count": 13,
   "id": "f0aa070c",
   "metadata": {},
   "outputs": [
    {
     "name": "stdout",
     "output_type": "stream",
     "text": [
      "Test input: [1 0 1], Test output: [0.98816852]\n"
     ]
    }
   ],
   "source": [
    "# Test the model\n",
    "test_input = np.array([1, 0, 1])\n",
    "test_output = sigmoid(np.dot(sigmoid(np.dot(test_input, w1)), w2))\n",
    "print(f'Test input: {test_input}, Test output: {test_output}')"
   ]
  },
  {
   "cell_type": "code",
   "execution_count": null,
   "id": "8a66b9df",
   "metadata": {},
   "outputs": [],
   "source": []
  }
 ],
 "metadata": {
  "kernelspec": {
   "display_name": "Python 3 (ipykernel)",
   "language": "python",
   "name": "python3"
  },
  "language_info": {
   "codemirror_mode": {
    "name": "ipython",
    "version": 3
   },
   "file_extension": ".py",
   "mimetype": "text/x-python",
   "name": "python",
   "nbconvert_exporter": "python",
   "pygments_lexer": "ipython3",
   "version": "3.11.3"
  }
 },
 "nbformat": 4,
 "nbformat_minor": 5
}
